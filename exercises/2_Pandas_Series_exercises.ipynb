{
  "nbformat": 4,
  "nbformat_minor": 0,
  "metadata": {
    "kernelspec": {
      "display_name": "Python 3",
      "language": "python",
      "name": "python3"
    },
    "language_info": {
      "codemirror_mode": {
        "name": "ipython",
        "version": 3
      },
      "file_extension": ".py",
      "mimetype": "text/x-python",
      "name": "python",
      "nbconvert_exporter": "python",
      "pygments_lexer": "ipython3",
      "version": "3.7.0"
    },
    "toc": {
      "base_numbering": 1,
      "nav_menu": {},
      "number_sections": true,
      "sideBar": true,
      "skip_h1_title": false,
      "title_cell": "Table of Contents",
      "title_sidebar": "Contents",
      "toc_cell": false,
      "toc_position": {},
      "toc_section_display": true,
      "toc_window_display": false
    },
    "varInspector": {
      "cols": {
        "lenName": 16,
        "lenType": 16,
        "lenVar": 40
      },
      "kernels_config": {
        "python": {
          "delete_cmd_postfix": "",
          "delete_cmd_prefix": "del ",
          "library": "var_list.py",
          "varRefreshCmd": "print(var_dic_list())"
        },
        "r": {
          "delete_cmd_postfix": ") ",
          "delete_cmd_prefix": "rm(",
          "library": "var_list.r",
          "varRefreshCmd": "cat(var_dic_list()) "
        }
      },
      "types_to_exclude": [
        "module",
        "function",
        "builtin_function_or_method",
        "instance",
        "_Feature"
      ],
      "window_display": false
    },
    "colab": {
      "name": "2_Pandas_Series_exercises.ipynb",
      "provenance": [],
      "collapsed_sections": [],
      "include_colab_link": true
    }
  },
  "cells": [
    {
      "cell_type": "markdown",
      "metadata": {
        "id": "view-in-github",
        "colab_type": "text"
      },
      "source": [
        "<a href=\"https://colab.research.google.com/github/sofiane1010/SIC_checkpoints/blob/main/exercises/2_Pandas_Series_exercises.ipynb\" target=\"_parent\"><img src=\"https://colab.research.google.com/assets/colab-badge.svg\" alt=\"Open In Colab\"/></a>"
      ]
    },
    {
      "cell_type": "markdown",
      "metadata": {
        "id": "P5hUpxo2BzF0"
      },
      "source": [
        "\n",
        "\n",
        "# Pandas Series exercises\n"
      ]
    },
    {
      "cell_type": "code",
      "metadata": {
        "id": "rYyIFT3IBzGL",
        "colab": {
          "base_uri": "https://localhost:8080/"
        },
        "outputId": "4dd52cd8-dc48-4bfd-e42f-7971efa998c9"
      },
      "source": [
        "# Import the numpy package under the name np\n",
        "import numpy as np\n",
        "\n",
        "# Import the pandas package under the name pd\n",
        "import pandas as pd\n",
        "\n",
        "# Print the pandas version and the configuration\n",
        "print(pd.__version__)"
      ],
      "execution_count": null,
      "outputs": [
        {
          "output_type": "stream",
          "text": [
            "1.1.5\n"
          ],
          "name": "stdout"
        }
      ]
    },
    {
      "cell_type": "markdown",
      "metadata": {
        "id": "lWcs-C6GBzGT"
      },
      "source": [
        "\n",
        "\n",
        "## Series creation"
      ]
    },
    {
      "cell_type": "markdown",
      "metadata": {
        "id": "yTAhRc_wBzGU"
      },
      "source": [
        "### Create an empty pandas Series"
      ]
    },
    {
      "cell_type": "code",
      "metadata": {
        "id": "kGUPCmYwBzGV",
        "colab": {
          "base_uri": "https://localhost:8080/"
        },
        "outputId": "16f3cd87-b537-4a85-a2f6-5e81b2eb193b"
      },
      "source": [
        "s = pd.Series([],dtype=int)\n",
        "s"
      ],
      "execution_count": null,
      "outputs": [
        {
          "output_type": "execute_result",
          "data": {
            "text/plain": [
              "Series([], dtype: int64)"
            ]
          },
          "metadata": {
            "tags": []
          },
          "execution_count": 2
        }
      ]
    },
    {
      "cell_type": "markdown",
      "metadata": {
        "id": "Qe0vcrowBzGY"
      },
      "source": [
        "\n",
        "\n",
        "### Given the X python list convert it to an Y pandas Series"
      ]
    },
    {
      "cell_type": "code",
      "metadata": {
        "id": "B0csK4U0BzGZ",
        "colab": {
          "base_uri": "https://localhost:8080/"
        },
        "outputId": "6c1dee35-d323-4ca6-d56e-28e33aa41637"
      },
      "source": [
        "X = [\"red\", \"blue\", \"yellow\"]\n",
        "Y = pd.Series(colors)\n",
        "Y"
      ],
      "execution_count": null,
      "outputs": [
        {
          "output_type": "execute_result",
          "data": {
            "text/plain": [
              "0       red\n",
              "1      blue\n",
              "2    yellow\n",
              "dtype: object"
            ]
          },
          "metadata": {
            "tags": []
          },
          "execution_count": 6
        }
      ]
    },
    {
      "cell_type": "markdown",
      "metadata": {
        "id": "Gide7r8rBzGl"
      },
      "source": [
        "\n",
        "\n",
        "### Given the X pandas Series, name it 'My letters'"
      ]
    },
    {
      "cell_type": "code",
      "metadata": {
        "id": "ZksvCjnOBzGm",
        "colab": {
          "base_uri": "https://localhost:8080/"
        },
        "outputId": "7e90129a-528b-4c55-b83c-af80bb51d0df"
      },
      "source": [
        "name_ = \"my letters\"\n",
        "\n",
        "# Renaming an existing series\n",
        "X = pd.Series(list(\"ABCDEF\"))\n",
        "X.name = name_\n",
        "print(X)\n",
        "print(\"\")\n",
        "\n",
        "# Setting the series name on creation\n",
        "X = pd.Series(list(\"ABCDEF\"), name=name_)\n",
        "print(X)"
      ],
      "execution_count": null,
      "outputs": [
        {
          "output_type": "stream",
          "text": [
            "0    A\n",
            "1    B\n",
            "2    C\n",
            "3    D\n",
            "4    E\n",
            "5    F\n",
            "Name: my letters, dtype: object\n",
            "\n",
            "0    A\n",
            "1    B\n",
            "2    C\n",
            "3    D\n",
            "4    E\n",
            "5    F\n",
            "Name: my letters, dtype: object\n"
          ],
          "name": "stdout"
        }
      ]
    },
    {
      "cell_type": "markdown",
      "metadata": {
        "id": "RykrBaBBBzGn"
      },
      "source": [
        "\n",
        "\n",
        "### Given the X pandas Series, show its values\n"
      ]
    },
    {
      "cell_type": "code",
      "metadata": {
        "id": "hmcnJWeZBzGn",
        "colab": {
          "base_uri": "https://localhost:8080/"
        },
        "outputId": "44f04b94-f13e-4634-94b5-ee752bf68f16"
      },
      "source": [
        "X.value_counts()"
      ],
      "execution_count": null,
      "outputs": [
        {
          "output_type": "execute_result",
          "data": {
            "text/plain": [
              "D    1\n",
              "B    1\n",
              "F    1\n",
              "E    1\n",
              "A    1\n",
              "C    1\n",
              "Name: my letters, dtype: int64"
            ]
          },
          "metadata": {
            "tags": []
          },
          "execution_count": 13
        }
      ]
    },
    {
      "cell_type": "markdown",
      "metadata": {
        "id": "wAjIj3OIBzGo"
      },
      "source": [
        "\n",
        "\n",
        "## Series indexation"
      ]
    },
    {
      "cell_type": "markdown",
      "metadata": {
        "id": "4Ik4vUmIBzGp"
      },
      "source": [
        "### Assign index names to the given X pandas Series\n"
      ]
    },
    {
      "cell_type": "code",
      "metadata": {
        "id": "CTB6tC-oBzGp",
        "colab": {
          "base_uri": "https://localhost:8080/"
        },
        "outputId": "e9f1d616-5e48-4b32-b194-cef8f0241fa6"
      },
      "source": [
        "index_ = [\"letter_one\", \"letter_two\", \"letter_three\", \"letter_four\", \"letter_five\", \"letter_six\"]\n",
        "\n",
        "#changin the index of an existing series\n",
        "X.index = index_\n",
        "print(X)\n",
        "print(\" \")\n",
        "\n",
        "# Setting the series name on creation\n",
        "X = pd.Series(list(\"ABCDEF\"), index=index_)\n",
        "print(X)"
      ],
      "execution_count": null,
      "outputs": [
        {
          "output_type": "stream",
          "text": [
            "letter_one      A\n",
            "letter_two      B\n",
            "letter_three    C\n",
            "letter_four     D\n",
            "letter_five     E\n",
            "letter_six      F\n",
            "Name: my letters, dtype: object\n",
            " \n",
            "letter_one      A\n",
            "letter_two      B\n",
            "letter_three    C\n",
            "letter_four     D\n",
            "letter_five     E\n",
            "letter_six      F\n",
            "dtype: object\n"
          ],
          "name": "stdout"
        }
      ]
    },
    {
      "cell_type": "markdown",
      "metadata": {
        "id": "L0rdpOX4BzGq"
      },
      "source": [
        "[link text](https://)\n",
        "\n",
        "### Given the X pandas Series, show its first element\n"
      ]
    },
    {
      "cell_type": "code",
      "metadata": {
        "id": "fnviyeFYBzGq",
        "colab": {
          "base_uri": "https://localhost:8080/",
          "height": 35
        },
        "outputId": "251f36ab-6764-489a-9043-ab48203c2745"
      },
      "source": [
        "X[0]"
      ],
      "execution_count": null,
      "outputs": [
        {
          "output_type": "execute_result",
          "data": {
            "application/vnd.google.colaboratory.intrinsic+json": {
              "type": "string"
            },
            "text/plain": [
              "'A'"
            ]
          },
          "metadata": {
            "tags": []
          },
          "execution_count": 16
        }
      ]
    },
    {
      "cell_type": "markdown",
      "metadata": {
        "id": "VA4SkVXFBzGr"
      },
      "source": [
        "\n",
        "\n",
        "### Given the X pandas Series, show its last element\n"
      ]
    },
    {
      "cell_type": "code",
      "metadata": {
        "id": "wJeGwFM7BzGt",
        "colab": {
          "base_uri": "https://localhost:8080/",
          "height": 35
        },
        "outputId": "7c6890e6-9d38-4832-fd54-fc42206aa49a"
      },
      "source": [
        "X[-1]\n"
      ],
      "execution_count": null,
      "outputs": [
        {
          "output_type": "execute_result",
          "data": {
            "application/vnd.google.colaboratory.intrinsic+json": {
              "type": "string"
            },
            "text/plain": [
              "'F'"
            ]
          },
          "metadata": {
            "tags": []
          },
          "execution_count": 17
        }
      ]
    },
    {
      "cell_type": "markdown",
      "metadata": {
        "id": "lxLGiIUwBzGu"
      },
      "source": [
        "\n",
        "\n",
        "### Given the X pandas Series, show all middle elements\n"
      ]
    },
    {
      "cell_type": "code",
      "metadata": {
        "id": "QR5STZqMBzGv",
        "colab": {
          "base_uri": "https://localhost:8080/"
        },
        "outputId": "3e864e5f-2c38-415b-8817-1c6908cfdaa4"
      },
      "source": [
        "Y = pd.Series(list(\"ABCDEFG\"))\n",
        "\n",
        "print(\"If middle elmements means all elements except the first and last one\")\n",
        "print(X[1:-1])\n",
        "print(\" \")\n",
        "\n",
        "\n",
        "def middle_el(s):\n",
        "    l = len(s)\n",
        "    if l%2: return s[int(l/2)]\n",
        "    return s[int(l/2)-1:int(l/2)+1]\n",
        "\n",
        "print(\"If middle elements means the center of the series:\")\n",
        "print(\" \")\n",
        "print(\"series with even length:\")\n",
        "print(middle_el(X))\n",
        "print(\" \")\n",
        "print(\"series with odd length:\")\n",
        "print(middle_el(Y))\n"
      ],
      "execution_count": null,
      "outputs": [
        {
          "output_type": "stream",
          "text": [
            "If middle elmements means all elements except the first and last one\n",
            "letter_two      B\n",
            "letter_three    C\n",
            "letter_four     D\n",
            "letter_five     E\n",
            "dtype: object\n",
            " \n",
            "If middle elements means the center of the series:\n",
            " \n",
            "series with even length:\n",
            "letter_three    C\n",
            "letter_four     D\n",
            "dtype: object\n",
            " \n",
            "series with odd length:\n",
            "D\n"
          ],
          "name": "stdout"
        }
      ]
    },
    {
      "cell_type": "markdown",
      "metadata": {
        "id": "M6dVAUDCBzGv"
      },
      "source": [
        "\n",
        "\n",
        "### Given the X pandas Series, show the elements in reverse position\n"
      ]
    },
    {
      "cell_type": "code",
      "metadata": {
        "id": "XVGqHQF7BzGw",
        "colab": {
          "base_uri": "https://localhost:8080/"
        },
        "outputId": "26e0efbf-2874-41f7-e8d8-284aa3b5da22"
      },
      "source": [
        "X[::-1]"
      ],
      "execution_count": null,
      "outputs": [
        {
          "output_type": "execute_result",
          "data": {
            "text/plain": [
              "letter_six      F\n",
              "letter_five     E\n",
              "letter_four     D\n",
              "letter_three    C\n",
              "letter_two      B\n",
              "letter_one      A\n",
              "dtype: object"
            ]
          },
          "metadata": {
            "tags": []
          },
          "execution_count": 24
        }
      ]
    },
    {
      "cell_type": "markdown",
      "metadata": {
        "id": "fK_j-TCsBzGw"
      },
      "source": [
        "\n",
        "\n",
        "### Given the X pandas Series, show the first and last elements\n"
      ]
    },
    {
      "cell_type": "code",
      "metadata": {
        "id": "dptBck-IBzGx",
        "colab": {
          "base_uri": "https://localhost:8080/"
        },
        "outputId": "c835fc01-5208-462a-d89f-b9797a1eafa2"
      },
      "source": [
        "print(\"first\", X[0])\n",
        "print(\"last\", X.iloc[-1])"
      ],
      "execution_count": null,
      "outputs": [
        {
          "output_type": "stream",
          "text": [
            "first A\n",
            "last F\n"
          ],
          "name": "stdout"
        }
      ]
    },
    {
      "cell_type": "markdown",
      "metadata": {
        "id": "b2go_tMLBzGx"
      },
      "source": [
        "\n",
        "\n",
        "## Series manipulation"
      ]
    },
    {
      "cell_type": "markdown",
      "metadata": {
        "id": "vvJDNQ5YBzGy"
      },
      "source": [
        "### Convert the given integer pandas Series to float\n"
      ]
    },
    {
      "cell_type": "code",
      "metadata": {
        "id": "Tcojkz38BzGy",
        "colab": {
          "base_uri": "https://localhost:8080/"
        },
        "outputId": "ee3840ca-c774-4326-b52f-0624379d675d"
      },
      "source": [
        "X = pd.Series([1,2,3,4,0,5,3,7], dtype=int)\n",
        "X = X.astype(float)\n",
        "X"
      ],
      "execution_count": null,
      "outputs": [
        {
          "output_type": "execute_result",
          "data": {
            "text/plain": [
              "0    1.0\n",
              "1    2.0\n",
              "2    3.0\n",
              "3    4.0\n",
              "4    0.0\n",
              "5    5.0\n",
              "6    3.0\n",
              "7    7.0\n",
              "dtype: float64"
            ]
          },
          "metadata": {
            "tags": []
          },
          "execution_count": 32
        }
      ]
    },
    {
      "cell_type": "markdown",
      "metadata": {
        "id": "PpckEdTQBzGz"
      },
      "source": [
        "\n",
        "\n",
        "### Reverse the given pandas Series (first element becomes last)"
      ]
    },
    {
      "cell_type": "code",
      "metadata": {
        "id": "jSTow5NHBzGz",
        "colab": {
          "base_uri": "https://localhost:8080/"
        },
        "outputId": "252458f2-d3fe-4bf0-89b2-c1aa3a197849"
      },
      "source": [
        "X[::-1]"
      ],
      "execution_count": null,
      "outputs": [
        {
          "output_type": "execute_result",
          "data": {
            "text/plain": [
              "7    7.0\n",
              "6    3.0\n",
              "5    5.0\n",
              "4    0.0\n",
              "3    4.0\n",
              "2    3.0\n",
              "1    2.0\n",
              "0    1.0\n",
              "dtype: float64"
            ]
          },
          "metadata": {
            "tags": []
          },
          "execution_count": 33
        }
      ]
    },
    {
      "cell_type": "markdown",
      "metadata": {
        "id": "DcG-AmcxBzG3"
      },
      "source": [
        "\n",
        "\n",
        "### Order (sort) the given pandas Series\n"
      ]
    },
    {
      "cell_type": "code",
      "metadata": {
        "id": "ONNAEc1NBzG4",
        "colab": {
          "base_uri": "https://localhost:8080/"
        },
        "outputId": "e1fc7dec-66ae-4df2-a7f9-f0fde4ccbffe"
      },
      "source": [
        " sorted_X = X.sort_values(ascending=True)\n",
        "\n",
        "print(X)\n",
        "print('')\n",
        "print(sorted_X)"
      ],
      "execution_count": null,
      "outputs": [
        {
          "output_type": "stream",
          "text": [
            "0    1.0\n",
            "1    2.0\n",
            "2    3.0\n",
            "3    4.0\n",
            "4    0.0\n",
            "5    5.0\n",
            "6    3.0\n",
            "7    7.0\n",
            "dtype: float64\n",
            "\n",
            "4    0.0\n",
            "0    1.0\n",
            "1    2.0\n",
            "2    3.0\n",
            "6    3.0\n",
            "3    4.0\n",
            "5    5.0\n",
            "7    7.0\n",
            "dtype: float64\n"
          ],
          "name": "stdout"
        }
      ]
    },
    {
      "cell_type": "markdown",
      "metadata": {
        "id": "iGdG_dYsBzG4"
      },
      "source": [
        "\n",
        "\n",
        "### Given the X pandas Series, set the fifth element equal to 10\n"
      ]
    },
    {
      "cell_type": "code",
      "metadata": {
        "id": "o_6gLClnBzG5",
        "colab": {
          "base_uri": "https://localhost:8080/"
        },
        "outputId": "380eb562-3777-44f3-a44d-fb56881ab2c8"
      },
      "source": [
        "print(X)\n",
        "X[4] = 10\n",
        "print(X)\n"
      ],
      "execution_count": null,
      "outputs": [
        {
          "output_type": "stream",
          "text": [
            "0    1.0\n",
            "1    2.0\n",
            "2    3.0\n",
            "3    4.0\n",
            "4    0.0\n",
            "5    5.0\n",
            "6    3.0\n",
            "7    7.0\n",
            "dtype: float64\n",
            "0     1.0\n",
            "1     2.0\n",
            "2     3.0\n",
            "3     4.0\n",
            "4    10.0\n",
            "5     5.0\n",
            "6     3.0\n",
            "7     7.0\n",
            "dtype: float64\n"
          ],
          "name": "stdout"
        }
      ]
    },
    {
      "cell_type": "markdown",
      "metadata": {
        "id": "8xtdu02DBzG5"
      },
      "source": [
        "\n",
        "\n",
        "### Given the X pandas Series, change all the middle elements to 0\n"
      ]
    },
    {
      "cell_type": "code",
      "metadata": {
        "id": "HtDtxfLvBzG6",
        "colab": {
          "base_uri": "https://localhost:8080/"
        },
        "outputId": "879f791a-f548-46f1-e527-36b6c6df4093"
      },
      "source": [
        "# even length series\n",
        "num_list = np.random.randint(5, 15, size=8)\n",
        "X = pd.Series(num_list)\n",
        "\n",
        "# odd length series\n",
        "num_list_ = np.random.randint(5, 15, size=7)\n",
        "X_ = pd.Series(num_list_)\n",
        "\n",
        "def set_middle_el(s, val):\n",
        "    l = len(s)\n",
        "    if l%2: \n",
        "        print(f\"****the middle element is in position {int(l/2)}****\")\n",
        "        s[int(l/2)] = val\n",
        "    else: \n",
        "        print(f\"****middle elements are in position {int(l/2)-1} and {int(l/2)}****\")\n",
        "        s[int(l/2)-1:int(l/2)+1] = val\n",
        "\n",
        "print(\"initial series of even length:\")\n",
        "print(X)\n",
        "set_middle_el(X, 0)\n",
        "print(\"updated series of even length:\")\n",
        "print(X)\n",
        "\n",
        "print(\" \")\n",
        "\n",
        "\n",
        "print(\"initial series of odd length:\")\n",
        "print(X_)\n",
        "set_middle_el(X_, 0)\n",
        "print(\"updated series of odd length:\")\n",
        "print(X_)"
      ],
      "execution_count": null,
      "outputs": [
        {
          "output_type": "stream",
          "text": [
            "initial series of even length:\n",
            "0     7\n",
            "1     7\n",
            "2     8\n",
            "3    10\n",
            "4    14\n",
            "5    10\n",
            "6    12\n",
            "7     8\n",
            "dtype: int64\n",
            "****middle elements are in position 3 and 4****\n",
            "updated series of even length:\n",
            "0     7\n",
            "1     7\n",
            "2     8\n",
            "3     0\n",
            "4     0\n",
            "5    10\n",
            "6    12\n",
            "7     8\n",
            "dtype: int64\n",
            " \n",
            "initial series of odd length:\n",
            "0     8\n",
            "1     8\n",
            "2    13\n",
            "3    12\n",
            "4     8\n",
            "5     8\n",
            "6    12\n",
            "dtype: int64\n",
            "****the middle element is in position 3****\n",
            "updated series of odd length:\n",
            "0     8\n",
            "1     8\n",
            "2    13\n",
            "3     0\n",
            "4     8\n",
            "5     8\n",
            "6    12\n",
            "dtype: int64\n"
          ],
          "name": "stdout"
        }
      ]
    },
    {
      "cell_type": "markdown",
      "metadata": {
        "id": "C5okIVtNBzG6"
      },
      "source": [
        "\n",
        "\n",
        "### Given the X pandas Series, add 5 to every element\n"
      ]
    },
    {
      "cell_type": "code",
      "metadata": {
        "id": "mw9cjkLnBzG7",
        "colab": {
          "base_uri": "https://localhost:8080/"
        },
        "outputId": "011cd874-a235-4e14-cb3b-70ca79d57fb0"
      },
      "source": [
        "print(\"initial series:\")\n",
        "print(X)\n",
        "print(\"updated series:\")\n",
        "print(X+5)"
      ],
      "execution_count": null,
      "outputs": [
        {
          "output_type": "stream",
          "text": [
            "initial series:\n",
            "0     7\n",
            "1     7\n",
            "2     8\n",
            "3     0\n",
            "4     0\n",
            "5    10\n",
            "6    12\n",
            "7     8\n",
            "dtype: int64\n",
            "updated series:\n",
            "0    12\n",
            "1    12\n",
            "2    13\n",
            "3     5\n",
            "4     5\n",
            "5    15\n",
            "6    17\n",
            "7    13\n",
            "dtype: int64\n"
          ],
          "name": "stdout"
        }
      ]
    },
    {
      "cell_type": "markdown",
      "metadata": {
        "id": "nGwcS0wyBzG7"
      },
      "source": [
        "\n",
        "\n",
        "## Series boolean arrays (also called masks)"
      ]
    },
    {
      "cell_type": "markdown",
      "metadata": {
        "id": "DrObRVkbBzG7"
      },
      "source": [
        "### Given the X pandas Series, make a mask showing negative elements\n"
      ]
    },
    {
      "cell_type": "code",
      "metadata": {
        "id": "kCImFlTo1qSF"
      },
      "source": [
        "def get_neg_el(s):\n",
        "    return s[s<0]"
      ],
      "execution_count": null,
      "outputs": []
    },
    {
      "cell_type": "code",
      "metadata": {
        "id": "qWB7eZSlBzG8",
        "colab": {
          "base_uri": "https://localhost:8080/"
        },
        "outputId": "8f754619-c8d2-49fa-eab6-939d053fc69d"
      },
      "source": [
        "num_list = np.random.randint(-15, 15, size=8)\n",
        "X = pd.Series(num_list)\n",
        "print(\"initial series:\")\n",
        "print(X)\n",
        "print(\"updated series:\")\n",
        "print(get_neg_el(X))"
      ],
      "execution_count": null,
      "outputs": [
        {
          "output_type": "stream",
          "text": [
            "initial series:\n",
            "0     8\n",
            "1   -12\n",
            "2    11\n",
            "3   -14\n",
            "4   -15\n",
            "5    -7\n",
            "6    -9\n",
            "7     5\n",
            "dtype: int64\n",
            "updated series:\n",
            "1   -12\n",
            "3   -14\n",
            "4   -15\n",
            "5    -7\n",
            "6    -9\n",
            "dtype: int64\n"
          ],
          "name": "stdout"
        }
      ]
    },
    {
      "cell_type": "markdown",
      "metadata": {
        "id": "r__u6AvDBzG9"
      },
      "source": [
        "\n",
        "\n",
        "### Given the X pandas Series, get the negative elements\n"
      ]
    },
    {
      "cell_type": "code",
      "metadata": {
        "id": "AIFDqjWgBzG9",
        "colab": {
          "base_uri": "https://localhost:8080/"
        },
        "outputId": "bf07b98b-8a56-4160-c836-816bf1256872"
      },
      "source": [
        "print(\"initial series:\")\n",
        "print(X)\n",
        "print(\"updated series:\")\n",
        "print(get_neg_el(X))"
      ],
      "execution_count": null,
      "outputs": [
        {
          "output_type": "stream",
          "text": [
            "initial series:\n",
            "0     8\n",
            "1   -12\n",
            "2    11\n",
            "3   -14\n",
            "4   -15\n",
            "5    -7\n",
            "6    -9\n",
            "7     5\n",
            "dtype: int64\n",
            "updated series:\n",
            "1   -12\n",
            "3   -14\n",
            "4   -15\n",
            "5    -7\n",
            "6    -9\n",
            "dtype: int64\n"
          ],
          "name": "stdout"
        }
      ]
    },
    {
      "cell_type": "markdown",
      "metadata": {
        "id": "Res9sEfQBzG-"
      },
      "source": [
        "\n",
        "\n",
        "### Given the X pandas Series, get numbers higher than 5\n"
      ]
    },
    {
      "cell_type": "code",
      "metadata": {
        "id": "Sdk1VEpI2HMk"
      },
      "source": [
        "def get_higher(series, val):\n",
        "  return series[series > series.mean()] if val=='mean' else series[series > val]"
      ],
      "execution_count": null,
      "outputs": []
    },
    {
      "cell_type": "code",
      "metadata": {
        "id": "G5j4FYXkBzG-",
        "colab": {
          "base_uri": "https://localhost:8080/"
        },
        "outputId": "1c24cd44-7dbd-4f5a-a7b6-e79efdeb7c5b"
      },
      "source": [
        "print(X)\n",
        "print(get_higher(X,5))"
      ],
      "execution_count": null,
      "outputs": [
        {
          "output_type": "stream",
          "text": [
            "0     8\n",
            "1   -12\n",
            "2    11\n",
            "3   -14\n",
            "4   -15\n",
            "5    -7\n",
            "6    -9\n",
            "7     5\n",
            "dtype: int64\n",
            "0     8\n",
            "2    11\n",
            "dtype: int64\n"
          ],
          "name": "stdout"
        }
      ]
    },
    {
      "cell_type": "markdown",
      "metadata": {
        "id": "PYySWoubBzG_"
      },
      "source": [
        "\n",
        "\n",
        "### Given the X pandas Series, get numbers higher than the elements mean"
      ]
    },
    {
      "cell_type": "code",
      "metadata": {
        "id": "FOvKQUgWBzG_",
        "colab": {
          "base_uri": "https://localhost:8080/"
        },
        "outputId": "cf8aa27a-d57b-4844-c846-2a2463845742"
      },
      "source": [
        "print(X)\n",
        "print(\"mean value is:\", X.mean())\n",
        "print(get_higher(X, 'mean'))"
      ],
      "execution_count": null,
      "outputs": [
        {
          "output_type": "stream",
          "text": [
            "0     8\n",
            "1   -12\n",
            "2    11\n",
            "3   -14\n",
            "4   -15\n",
            "5    -7\n",
            "6    -9\n",
            "7     5\n",
            "dtype: int64\n",
            "mean value is: -4.125\n",
            "0     8\n",
            "2    11\n",
            "7     5\n",
            "dtype: int64\n"
          ],
          "name": "stdout"
        }
      ]
    },
    {
      "cell_type": "markdown",
      "metadata": {
        "id": "CLlgJUYQBzHA"
      },
      "source": [
        "\n",
        "\n",
        "### Given the X pandas Series, get numbers equal to 2 or 10\n"
      ]
    },
    {
      "cell_type": "code",
      "metadata": {
        "id": "810bZYbeBzHB",
        "colab": {
          "base_uri": "https://localhost:8080/"
        },
        "outputId": "f1b3e20f-b3a8-4a81-a476-2954e11ae856"
      },
      "source": [
        "# your code goes here\n",
        "num_list = [3,6,3,1,2,8,10,2,10,6]\n",
        "X = pd.Series(num_list)\n",
        "\n",
        "print(X)\n",
        "print(X[(X==2) | (X==10)])\n"
      ],
      "execution_count": null,
      "outputs": [
        {
          "output_type": "stream",
          "text": [
            "0     3\n",
            "1     6\n",
            "2     3\n",
            "3     1\n",
            "4     2\n",
            "5     8\n",
            "6    10\n",
            "7     2\n",
            "8    10\n",
            "9     6\n",
            "dtype: int64\n",
            "4     2\n",
            "6    10\n",
            "7     2\n",
            "8    10\n",
            "dtype: int64\n"
          ],
          "name": "stdout"
        }
      ]
    },
    {
      "cell_type": "markdown",
      "metadata": {
        "id": "WZcAPtEVBzHC"
      },
      "source": [
        "\n",
        "\n",
        "## Logic functions"
      ]
    },
    {
      "cell_type": "markdown",
      "metadata": {
        "id": "6GEr1QzdBzHD"
      },
      "source": [
        "### Given the X pandas Series, return True if none of its elements is zero"
      ]
    },
    {
      "cell_type": "code",
      "metadata": {
        "id": "7kZWfRn7BzHD",
        "colab": {
          "base_uri": "https://localhost:8080/"
        },
        "outputId": "2deb4cae-e8b1-431b-f42b-a091713c5960"
      },
      "source": [
        "# all\n",
        "num_list = np.random.randint(-10,10,size=10)\n",
        "X = pd.Series(num_list)\n",
        "print(X)\n",
        "print(\"OUTPUT:\",all(X != 0))"
      ],
      "execution_count": null,
      "outputs": [
        {
          "output_type": "stream",
          "text": [
            "0    -4\n",
            "1     6\n",
            "2     7\n",
            "3    -5\n",
            "4     0\n",
            "5    -7\n",
            "6     6\n",
            "7     5\n",
            "8   -10\n",
            "9     4\n",
            "dtype: int64\n",
            "OUTPUT: False\n"
          ],
          "name": "stdout"
        }
      ]
    },
    {
      "cell_type": "markdown",
      "metadata": {
        "id": "pZP_SelbBzHE"
      },
      "source": [
        "\n",
        "\n",
        "### Given the X pandas Series, return True if any of its elements is zero\n"
      ]
    },
    {
      "cell_type": "code",
      "metadata": {
        "id": "FYxnY5F5BzHE",
        "colab": {
          "base_uri": "https://localhost:8080/"
        },
        "outputId": "5de8fe64-930a-4724-e225-baed75219baf"
      },
      "source": [
        "# any\n",
        "num_list = np.random.randint(-10,10,size=10)\n",
        "X = pd.Series(num_list)\n",
        "print(X)\n",
        "print(\"OUTPUT:\",any(X == 0))"
      ],
      "execution_count": null,
      "outputs": [
        {
          "output_type": "stream",
          "text": [
            "0    1\n",
            "1    2\n",
            "2   -8\n",
            "3    1\n",
            "4   -5\n",
            "5    4\n",
            "6   -5\n",
            "7    3\n",
            "8    0\n",
            "9   -2\n",
            "dtype: int64\n",
            "OUTPUT: True\n"
          ],
          "name": "stdout"
        }
      ]
    },
    {
      "cell_type": "markdown",
      "metadata": {
        "id": "gcxgp11dBzHF"
      },
      "source": [
        "\n",
        "\n",
        "## Summary statistics"
      ]
    },
    {
      "cell_type": "markdown",
      "metadata": {
        "id": "_M4QZsdJBzHF"
      },
      "source": [
        "### Given the X pandas Series, show the sum of its elements\n"
      ]
    },
    {
      "cell_type": "code",
      "metadata": {
        "id": "TxyGSWFHvcDv"
      },
      "source": [
        "def stats(series, operation):\n",
        "    if operation == 'sum': return series.sum()\n",
        "    if operation == 'mean': return series.mean()\n",
        "    if operation == 'max': return series.max()\n",
        "    return"
      ],
      "execution_count": null,
      "outputs": []
    },
    {
      "cell_type": "code",
      "metadata": {
        "id": "7ITTBhMQBzHG",
        "colab": {
          "base_uri": "https://localhost:8080/"
        },
        "outputId": "f061a8c3-6991-4d00-c006-ea4068b2b58f"
      },
      "source": [
        "# sum\n",
        "num_list = np.random.randint(-10,10,size=4)\n",
        "X = pd.Series(num_list)\n",
        "print(X)\n",
        "print('sum:', stats(X, 'sum'))"
      ],
      "execution_count": null,
      "outputs": [
        {
          "output_type": "stream",
          "text": [
            "0    2\n",
            "1   -9\n",
            "2   -6\n",
            "3    9\n",
            "dtype: int64\n",
            "sum: -4\n"
          ],
          "name": "stdout"
        }
      ]
    },
    {
      "cell_type": "markdown",
      "metadata": {
        "id": "-AuZtRAPBzHG"
      },
      "source": [
        "\n",
        "\n",
        "### Given the X pandas Series, show the mean value of its elements"
      ]
    },
    {
      "cell_type": "code",
      "metadata": {
        "id": "ZOnQesRbBzHH",
        "colab": {
          "base_uri": "https://localhost:8080/"
        },
        "outputId": "bc158c05-0fd1-49f7-a892-a70099cea05f"
      },
      "source": [
        "# mean\n",
        "print(X)\n",
        "print(\"mean:\",stats(X, 'mean'))"
      ],
      "execution_count": null,
      "outputs": [
        {
          "output_type": "stream",
          "text": [
            "0    2\n",
            "1   -9\n",
            "2   -6\n",
            "3    9\n",
            "dtype: int64\n",
            "mean: -1.0\n"
          ],
          "name": "stdout"
        }
      ]
    },
    {
      "cell_type": "markdown",
      "metadata": {
        "id": "eNA2p_RfBzHI"
      },
      "source": [
        "\n",
        "\n",
        "### Given the X pandas Series, show the max value of its elements"
      ]
    },
    {
      "cell_type": "code",
      "metadata": {
        "id": "f63LhFrhBzHI",
        "colab": {
          "base_uri": "https://localhost:8080/"
        },
        "outputId": "98a7c667-0ec7-47a6-8e17-2eb57a41214c"
      },
      "source": [
        "# max\n",
        "print(X)\n",
        "print(\"OUTPUT:\",stats(X, 'max'))"
      ],
      "execution_count": null,
      "outputs": [
        {
          "output_type": "stream",
          "text": [
            "0    2\n",
            "1   -9\n",
            "2   -6\n",
            "3    9\n",
            "dtype: int64\n",
            "OUTPUT: 9\n"
          ],
          "name": "stdout"
        }
      ]
    }
  ]
}