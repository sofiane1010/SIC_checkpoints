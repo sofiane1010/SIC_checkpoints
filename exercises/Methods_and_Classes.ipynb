{
  "nbformat": 4,
  "nbformat_minor": 0,
  "metadata": {
    "colab": {
      "name": "Methods_and_Classes.ipynb",
      "provenance": [],
      "collapsed_sections": [],
      "include_colab_link": true
    },
    "kernelspec": {
      "display_name": "Python 3",
      "language": "python",
      "name": "python3"
    },
    "language_info": {
      "codemirror_mode": {
        "name": "ipython",
        "version": 3
      },
      "file_extension": ".py",
      "mimetype": "text/x-python",
      "name": "python",
      "nbconvert_exporter": "python",
      "pygments_lexer": "ipython3",
      "version": "3.7.6"
    }
  },
  "cells": [
    {
      "cell_type": "markdown",
      "metadata": {
        "id": "view-in-github",
        "colab_type": "text"
      },
      "source": [
        "<a href=\"https://colab.research.google.com/github/sofiane1010/SIC_checkpoints/blob/main/exercises/Methods_and_Classes.ipynb\" target=\"_parent\"><img src=\"https://colab.research.google.com/assets/colab-badge.svg\" alt=\"Open In Colab\"/></a>"
      ]
    },
    {
      "cell_type": "markdown",
      "metadata": {
        "id": "ph5DPAeAjm3p"
      },
      "source": [
        "## 1)- Une fonction qui retourne max(0, x)\n"
      ]
    },
    {
      "cell_type": "code",
      "metadata": {
        "colab": {
          "base_uri": "https://localhost:8080/"
        },
        "id": "UxsMbeHLjm3r",
        "outputId": "74bec586-597c-4d27-d6db-422eea21c0dd"
      },
      "source": [
        "def relu(x):\n",
        "  return x if x>0 else 0\n",
        "\n",
        "print(relu(-1))"
      ],
      "execution_count": null,
      "outputs": [
        {
          "output_type": "stream",
          "text": [
            "0\n"
          ],
          "name": "stdout"
        }
      ]
    },
    {
      "cell_type": "markdown",
      "metadata": {
        "id": "RycFlbsljm3r"
      },
      "source": [
        "## 2)- Une fonction qui retourne le résultat de l'operation : 1 / (1+exp(-x), vous pouvez utiliser (np.exp)"
      ]
    },
    {
      "cell_type": "code",
      "metadata": {
        "id": "stToOhm8jm3r",
        "colab": {
          "base_uri": "https://localhost:8080/"
        },
        "outputId": "28fa9edc-119f-4c70-da68-58e72ebcf713"
      },
      "source": [
        "import numpy as np\n",
        "def sigmoid(x):\n",
        "    return 1/(np.exp(-x) + 1)\n",
        "\n",
        "print(sigmoid(0))"
      ],
      "execution_count": null,
      "outputs": [
        {
          "output_type": "stream",
          "text": [
            "0.5\n"
          ],
          "name": "stdout"
        }
      ]
    },
    {
      "cell_type": "markdown",
      "metadata": {
        "id": "sly4NsAEjm3s"
      },
      "source": [
        "## 3)- Write a Python function student_data () which will print the id of a student (student_id). If the user passes an argument student_name or student_class the function will print the student name and class."
      ]
    },
    {
      "cell_type": "code",
      "metadata": {
        "colab": {
          "base_uri": "https://localhost:8080/"
        },
        "id": "kFWbEwc_jm3s",
        "outputId": "bce48b89-19c7-42cd-cc2c-98a1302cd192"
      },
      "source": [
        "class Student:\n",
        "  def __init__(self, name, id, class_):\n",
        "    self.name = name\n",
        "    self.id = id\n",
        "    self.class_ = class_\n",
        "\n",
        "  def student_data(self, data='student_id'):\n",
        "    if data == 'student_id': return self.id\n",
        "    if data == 'student_name': return self.name\n",
        "    if data == 'student_class': return self.class_\n",
        "    return ''\n",
        "\n",
        "student1 = Student('sofiane', 1, 'AI')\n",
        "\n",
        "print(student1.student_data('student_name'), \"has \", student1.student_data(), \"as an ID and attends to \", student1.student_data('student_class'), \"classes\")\n",
        "  \n"
      ],
      "execution_count": null,
      "outputs": [
        {
          "output_type": "stream",
          "text": [
            "sofiane has  1 as an ID and attends to  AI classes\n"
          ],
          "name": "stdout"
        }
      ]
    },
    {
      "cell_type": "markdown",
      "metadata": {
        "id": "M3cU1iv5jm3s"
      },
      "source": [
        "## 4)- Create a Vehicle class with max_speed and mileage instance attributes"
      ]
    },
    {
      "cell_type": "code",
      "metadata": {
        "colab": {
          "base_uri": "https://localhost:8080/"
        },
        "id": "TZ5buhQfqoU4",
        "outputId": "05c5dcb5-0cbd-46b6-bfc2-58ab61f1ed89"
      },
      "source": [
        "class Vehicle:\n",
        "  def __init__(self, max_speed, mileage):\n",
        "    self.max_speed = max_speed\n",
        "    self.mileage = mileage\n",
        "\n",
        "car = Vehicle(200, 10000)\n",
        "\n",
        "print(\"the car has a max speed of\", car.max_speed, \"and a mileage of\", car.mileage)"
      ],
      "execution_count": null,
      "outputs": [
        {
          "output_type": "stream",
          "text": [
            "the car has a max speed of 200 and a mileage of 10000\n"
          ],
          "name": "stdout"
        }
      ]
    },
    {
      "cell_type": "markdown",
      "metadata": {
        "id": "UBKRvtS9jm3t"
      },
      "source": [
        "## 5)- Use the command \"print(geeks.counter)\""
      ]
    },
    {
      "cell_type": "code",
      "metadata": {
        "colab": {
          "base_uri": "https://localhost:8080/"
        },
        "id": "0o7buLFZjm3t",
        "outputId": "68a93c35-97e2-4f62-ddf3-e2bbad05a00c"
      },
      "source": [
        "class geeks:\n",
        "    \n",
        "    # this is used to print the number\n",
        "    # of instances of a class\n",
        "    counter = 0\n",
        "  \n",
        "    # constructor of geeks class\n",
        "    def __init__(self):\n",
        "        \n",
        "        # increment\n",
        "        geeks.counter += 1\n",
        "\n",
        "print(\"counter before instanciation :\",geeks.counter)\n",
        "geek1 = geeks()\n",
        "print(\"counter after one instanciation :\",geeks.counter)\n",
        "geek2 = geeks()\n",
        "print(\"counter after two instanciation :\",geeks.counter)\n",
        "geek3 = geeks()\n",
        "print(\"counter after three instanciation :\",geeks.counter)"
      ],
      "execution_count": null,
      "outputs": [
        {
          "output_type": "stream",
          "text": [
            "counter before instanciation : 0\n",
            "counter after one instanciation : 1\n",
            "counter after two instanciation : 2\n",
            "counter after three instanciation : 3\n"
          ],
          "name": "stdout"
        }
      ]
    },
    {
      "cell_type": "code",
      "metadata": {
        "id": "cOHVx5hDjm3u"
      },
      "source": [
        ""
      ],
      "execution_count": null,
      "outputs": []
    }
  ]
}