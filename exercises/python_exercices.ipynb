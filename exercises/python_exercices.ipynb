{
  "nbformat": 4,
  "nbformat_minor": 0,
  "metadata": {
    "colab": {
      "name": "python_exercices.ipynb",
      "provenance": [],
      "collapsed_sections": [],
      "include_colab_link": true
    },
    "kernelspec": {
      "name": "python3",
      "display_name": "Python 3"
    },
    "language_info": {
      "name": "python"
    }
  },
  "cells": [
    {
      "cell_type": "markdown",
      "metadata": {
        "id": "view-in-github",
        "colab_type": "text"
      },
      "source": [
        "<a href=\"https://colab.research.google.com/github/sofiane1010/SIC_checkpoints/blob/main/exercises/python_exercices.ipynb\" target=\"_parent\"><img src=\"https://colab.research.google.com/assets/colab-badge.svg\" alt=\"Open In Colab\"/></a>"
      ]
    },
    {
      "cell_type": "markdown",
      "metadata": {
        "id": "aRmeuL6YWoU3"
      },
      "source": [
        "# Exercice 1\n",
        "\n",
        "Write a Python function to find the Max of three numbers."
      ]
    },
    {
      "cell_type": "code",
      "metadata": {
        "id": "MhcIJv4nb2HE",
        "colab": {
          "base_uri": "https://localhost:8080/"
        },
        "outputId": "65a936f0-9252-4f22-a5fd-aec4f4a347bb"
      },
      "source": [
        "# importing the reduce method\n",
        "from functools import reduce\n",
        "\n",
        "# importing numpy for random array of numbers generation\n",
        "import numpy as np\n",
        "\n",
        "# generating an array of three random numbers between 0 and 100\n",
        "random_values = np.random.randint(0, 100, 3)\n",
        "\n",
        "# implementing max function using reduce\n",
        "def max(values):\n",
        "  return reduce(lambda acc,curr : acc if acc > curr else curr, values)\n",
        "\n",
        "# implementing max function using for loop\n",
        "def max_(values):\n",
        "  max_num = 0\n",
        "  for val in values:\n",
        "    if val > max_num: max_num = val\n",
        "  return max_num\n",
        "\n",
        "# printing out the results\n",
        "print(\"the array is\", random_values)\n",
        "print(\"max using reduce :\", max(random_values))\n",
        "print(\"max using for loop :\", max_(random_values))"
      ],
      "execution_count": 142,
      "outputs": [
        {
          "output_type": "stream",
          "text": [
            "the array is [ 6 21  3]\n",
            "max using reduce : 21\n",
            "max using for loop : 21\n"
          ],
          "name": "stdout"
        }
      ]
    },
    {
      "cell_type": "markdown",
      "metadata": {
        "id": "MukkavLLWzrd"
      },
      "source": [
        "# Exercice 2\n",
        "\n",
        "Write a Python function to sum all the odd numbers in a list "
      ]
    },
    {
      "cell_type": "code",
      "metadata": {
        "colab": {
          "base_uri": "https://localhost:8080/"
        },
        "id": "hP68bgUJauyG",
        "outputId": "1d2cbbe6-e5fb-41cb-b0d2-15ba125e4405"
      },
      "source": [
        "# importing the reduce method\n",
        "from functools import reduce\n",
        "\n",
        "# importing numpy for random array of numbers generation\n",
        "import numpy as np\n",
        "\n",
        "# generating an array of three random numbers between 0 and 100\n",
        "random_values = np.random.randint(0, 100, 5)\n",
        "\n",
        "# using the reduce function again\n",
        "def sum_odd(values):\n",
        "  return reduce(lambda acc, curr : acc + curr if curr % 2 == 1 else acc, values, 0)\n",
        "\n",
        "# using a for loop\n",
        "def sum_odd_(values):\n",
        "  odd = 0\n",
        "  for val in values:\n",
        "    if val % 2 == 1: odd += val\n",
        "  return odd\n",
        "\n",
        "# printing out the results\n",
        "print(\"the array is:\", random_values)\n",
        "print(\"odd_sum using reduce:\",sum_odd(random_values))\n",
        "print(\"odd_sum using for loop:\",sum_odd_(random_values))\n",
        "\n"
      ],
      "execution_count": 143,
      "outputs": [
        {
          "output_type": "stream",
          "text": [
            "the array is: [62 55 96 91 95]\n",
            "odd_sum using reduce: 241\n",
            "odd_sum using for loop: 241\n"
          ],
          "name": "stdout"
        }
      ]
    },
    {
      "cell_type": "markdown",
      "metadata": {
        "id": "hrCISsCKW4Sw"
      },
      "source": [
        "# Exercice 3\n",
        "\n",
        "Write a Python function that takes a list and returns a new list with unique elements of the first list.\n",
        "\n",
        "\n",
        "\n",
        "```\n",
        "Sample List : [1,2,3,3,3,3,4,5]\n",
        "Unique List : [1, 2, 3, 4, 5]\n",
        "\n",
        "```\n",
        "\n"
      ]
    },
    {
      "cell_type": "code",
      "metadata": {
        "colab": {
          "base_uri": "https://localhost:8080/"
        },
        "id": "jnMZWYgrQCgm",
        "outputId": "3c4e5039-2e29-4fc7-fb01-4f2f77b94370"
      },
      "source": [
        "sample_list = [1,2,3,3,3,3,44,4,44,5]\n",
        "\n",
        "# function using set conversion\n",
        "def unique(input):\n",
        "  return list(set(input))\n",
        "\n",
        "# function using for loop \n",
        "def unique_(input):\n",
        "  output = []\n",
        "  for i in input:\n",
        "    if i not in output: output.append(i)\n",
        "  # sorting the output list to have a similar output as the first function\n",
        "  output.sort()\n",
        "  return output\n",
        "\n",
        "# printing out results\n",
        "print(\"intput list:\",sample_list)\n",
        "print(\"output list using set conversion:\",unique_(sample_list))\n",
        "print(\"output list using for loop:\",unique(sample_list))"
      ],
      "execution_count": 144,
      "outputs": [
        {
          "output_type": "stream",
          "text": [
            "intput list: [1, 2, 3, 3, 3, 3, 44, 4, 44, 5]\n",
            "output list using set conversion: [1, 2, 3, 4, 5, 44]\n",
            "output list using for loop: [1, 2, 3, 4, 5, 44]\n"
          ],
          "name": "stdout"
        }
      ]
    },
    {
      "cell_type": "markdown",
      "metadata": {
        "id": "sJr5a2B1XEjF"
      },
      "source": [
        "# Exercice 4\n",
        "\n",
        "Write a Python program to print out a set containing all the elements from list_1 which are not present in list_2. \n",
        "\n",
        "\n",
        "```\n",
        "Test Data :\n",
        "list_1 = set([\"Jhon\", \"Adam\", \"Eva\"])\n",
        "list_2 = set([\"Adam\", \"Green\"])\n",
        "Expected Output :\n",
        "{'Jhon','Eva'}\n",
        "```\n",
        "\n",
        "\n"
      ]
    },
    {
      "cell_type": "code",
      "metadata": {
        "colab": {
          "base_uri": "https://localhost:8080/"
        },
        "id": "vuQtu3IoST6I",
        "outputId": "c9115348-02c6-42c0-c760-c7a74c86dec9"
      },
      "source": [
        "list_1 = set([\"Jhon\", \"Adam\", \"Eva\"])\n",
        "list_2 = set([\"Adam\", \"Green\"])\n",
        "\n",
        "def subs(l1, l2):\n",
        "  return l1-l2\n",
        "\n",
        "print(subs(list_1, list_2))\n"
      ],
      "execution_count": 145,
      "outputs": [
        {
          "output_type": "stream",
          "text": [
            "{'Jhon', 'Eva'}\n"
          ],
          "name": "stdout"
        }
      ]
    },
    {
      "cell_type": "markdown",
      "metadata": {
        "id": "9wfilEXqXjJv"
      },
      "source": [
        "# Exercice 6\n",
        "\n",
        "Write a Python program to reverse a string"
      ]
    },
    {
      "cell_type": "code",
      "metadata": {
        "id": "189rC_71WmR-",
        "colab": {
          "base_uri": "https://localhost:8080/"
        },
        "outputId": "78f5bdeb-70d9-4444-d652-97500a207607"
      },
      "source": [
        "sample_string = \"helloooooo\"\n",
        "\n",
        "def reverse_string(input_string):\n",
        "  output = [char for char in input_string] # or list(intput_string)\n",
        "  output.reverse()\n",
        "  return \"\".join(output)\n",
        "\n",
        "\n",
        "\n",
        "print(reverse_string(sample_string))"
      ],
      "execution_count": null,
      "outputs": [
        {
          "output_type": "stream",
          "text": [
            "oooooolleh\n"
          ],
          "name": "stdout"
        }
      ]
    },
    {
      "cell_type": "markdown",
      "metadata": {
        "id": "r6oQjFUrXpnf"
      },
      "source": [
        "# Exercice 7\n",
        "\n",
        "Write a Python function that accepts a string and calculate the number of upper case letters and lower case letters."
      ]
    },
    {
      "cell_type": "code",
      "metadata": {
        "id": "1QMPcTkmbyca",
        "colab": {
          "base_uri": "https://localhost:8080/"
        },
        "outputId": "e7bad2f9-a559-41bd-efc7-4e999927b97f"
      },
      "source": [
        "sample_string = \"SoFiAnE\"\n",
        "\n",
        "\n",
        "def up_low_counter(input_string):\n",
        "  lower = 0\n",
        "  upper = 0\n",
        "  for letter in input_string:\n",
        "    if letter.islower(): lower += 1\n",
        "    else: upper += 1\n",
        "  return upper, lower\n",
        "\n",
        "\n",
        "# print out the results \n",
        "up, low= up_low_counter(sample_string)\n",
        "\n",
        "print(\"number of lower case letters:\", low)\n",
        "print(\"number of upper case letters:\", up)\n"
      ],
      "execution_count": null,
      "outputs": [
        {
          "output_type": "stream",
          "text": [
            "number of lower case letters: 3\n",
            "number of upper case letters: 4\n"
          ],
          "name": "stdout"
        }
      ]
    },
    {
      "cell_type": "markdown",
      "metadata": {
        "id": "t_soF5tMXwRz"
      },
      "source": [
        "# Exercice 8\n",
        "\n",
        "Write a Python program that accepts a hyphen-separated sequence of words as input and prints the words in a hyphen-separated sequence after sorting them alphabetically. \n",
        "```\n",
        "Sample Items : green-red-yellow-black-white\n",
        "Expected Result : black-green-red-white-yellow\n",
        "``` "
      ]
    },
    {
      "cell_type": "code",
      "metadata": {
        "id": "-agDtKBsX8Lw",
        "colab": {
          "base_uri": "https://localhost:8080/"
        },
        "outputId": "e10c9239-4a41-4af7-fdfb-1cc5d9d7084d"
      },
      "source": [
        "sample_items = \"green-red-yellow-black-white\"\n",
        "\n",
        "def sort_alph(input_string):\n",
        "  output = input_string.split('-')\n",
        "  output.sort()\n",
        "  return \"-\".join(output)\n",
        "\n",
        "print(sort_alph(sample_items))"
      ],
      "execution_count": null,
      "outputs": [
        {
          "output_type": "stream",
          "text": [
            "black-green-red-white-yellow\n"
          ],
          "name": "stdout"
        }
      ]
    },
    {
      "cell_type": "markdown",
      "metadata": {
        "id": "Gytg6jEUX8r8"
      },
      "source": [
        "# Exercice 9\n",
        "\n",
        "Using **filter()** function, filter the list so that only negative numbers are left.\n",
        "\n",
        "filter(function, sequence)\n",
        "Parameters:\n",
        "function: function that tests if each element of a \n",
        "sequence true or not.\n",
        "sequence: sequence which needs to be filtered, it can \n",
        "be sets, lists, tuples, or containers of any iterators.\n",
        "Returns:\n",
        "returns an iterator that is already filtered.\n"
      ]
    },
    {
      "cell_type": "code",
      "metadata": {
        "id": "pUwRjdvGYC9v",
        "colab": {
          "base_uri": "https://localhost:8080/"
        },
        "outputId": "d40a85c7-f215-429b-cbe1-ce59f404c276"
      },
      "source": [
        "import numpy as np\n",
        "\n",
        "# generating random numbers \n",
        "random_nums = np.random.randint(-50, 50, 10)\n",
        "\n",
        "# defining the function that will filter the array of random numbers\n",
        "def positive_filter(numbers):\n",
        "    return list(filter(lambda num : num < 0, numbers))\n",
        "\n",
        "\n",
        "# printing out the results\n",
        "print(\"original list:\",random_nums)\n",
        "print(\"filtered list:\",positive_filter(random_nums))"
      ],
      "execution_count": null,
      "outputs": [
        {
          "output_type": "stream",
          "text": [
            "original list: [ 14  23  48 -19  46  46  19  35  24 -49]\n",
            "filtered list: [-19, -49]\n"
          ],
          "name": "stdout"
        }
      ]
    },
    {
      "cell_type": "markdown",
      "metadata": {
        "id": "M35sWj2oYDeB"
      },
      "source": [
        "# Exercice 10\n",
        "\n",
        "Using **filter()** and **list()** functions and **.lower()** method filter all the vowels in a given string."
      ]
    },
    {
      "cell_type": "code",
      "metadata": {
        "id": "RJxdbsUQYN1s",
        "colab": {
          "base_uri": "https://localhost:8080/"
        },
        "outputId": "7317bab3-f327-498b-bbd1-531cf83b0598"
      },
      "source": [
        "sample_string_1 = \"ArtifiCIal IntelliGENCE\"\n",
        "\n",
        "def filter_vowels(input_string):\n",
        "  # defining all the vowels of the alphabet\n",
        "  vowels = [\"a\",\"e\",\"i\",\"o\",\"u\"]\n",
        "\n",
        "  # returning the resulting string\n",
        "  return \"\".join(filter(lambda letter : letter.lower() not in vowels, input_string))\n",
        "\n",
        "print(filter_vowels(sample_string_1))"
      ],
      "execution_count": 148,
      "outputs": [
        {
          "output_type": "stream",
          "text": [
            "rtfCl ntllGNC\n"
          ],
          "name": "stdout"
        }
      ]
    },
    {
      "cell_type": "markdown",
      "metadata": {
        "id": "eT_QrfgGYORM"
      },
      "source": [
        "# Exercice 11\n",
        "\n",
        "Write a Python program to clone or copy a list (hint : use ``` copy library ```  ) then print the old and new id number using id()  "
      ]
    },
    {
      "cell_type": "code",
      "metadata": {
        "id": "Vj7PUYzkYfAf",
        "colab": {
          "base_uri": "https://localhost:8080/"
        },
        "outputId": "dcd41d5a-0dea-4d5d-d55e-734785ef2a1d"
      },
      "source": [
        "import numpy as np\n",
        "\n",
        "original_list = np.random.random(5)\n",
        "\n",
        "copied_list = original_list.copy()\n",
        "\n",
        "\n",
        "print(\"the original list is:\",original_list, \"and its id is:\", id(original_list))\n",
        "print(\"the copied list is:\", copied_list, \"and its id is:\", id(copied_list))"
      ],
      "execution_count": 146,
      "outputs": [
        {
          "output_type": "stream",
          "text": [
            "the original list is: [0.99141874 0.55377691 0.79443647 0.46567658 0.86314485] and its id is: 140435284823296\n",
            "the copied list is: [0.99141874 0.55377691 0.79443647 0.46567658 0.86314485] and its id is: 140435284822016\n"
          ],
          "name": "stdout"
        }
      ]
    },
    {
      "cell_type": "markdown",
      "metadata": {
        "id": "KZvq0hElYbov"
      },
      "source": [
        "# Exercice 12\n",
        "\n",
        "\n",
        "Write a Python program to map two lists into a dictionary\n",
        "\n",
        "```\n",
        "sample input : \n",
        "[\"A\",\"B\",\"C\"]\n",
        "[1,2,3]\n",
        "output : \n",
        "{\"A\":1,\"B\":2,\"C\":3}\n",
        "```"
      ]
    },
    {
      "cell_type": "code",
      "metadata": {
        "id": "h2aBQoQNZX48",
        "colab": {
          "base_uri": "https://localhost:8080/"
        },
        "outputId": "19496c07-b335-474d-8def-822b15857ca3"
      },
      "source": [
        "keys = [\"A\", \"B\", \"C\"]\n",
        "values = [1, 2, 3]\n",
        "\n",
        "def list_mapping(keys, values):\n",
        "  return dict(zip(keys, values))\n",
        "\n",
        "print(list_mapping(keys, values))"
      ],
      "execution_count": 147,
      "outputs": [
        {
          "output_type": "stream",
          "text": [
            "{'A': 1, 'B': 2, 'C': 3}\n"
          ],
          "name": "stdout"
        }
      ]
    },
    {
      "cell_type": "markdown",
      "metadata": {
        "id": "zVN1TozBZYvW"
      },
      "source": [
        "# Exercice 13 \n",
        "\n",
        "Write a Python program to remove spaces from dictionary keys.\n",
        "\n",
        "```\n",
        "sample input : \n",
        "{\"A   \" : 1,\" B\":2,\"  C  \":3}\n",
        "output: \n",
        "{\"A\":1,\"B\":2,\"C\":3}\n",
        "\n"
      ]
    },
    {
      "cell_type": "code",
      "metadata": {
        "id": "ADWp-if2Z51C",
        "colab": {
          "base_uri": "https://localhost:8080/"
        },
        "outputId": "ffcf6325-c76f-4bed-a4ce-5fca1eca5965"
      },
      "source": [
        "sample_input = {\"   A E  \" : 1,\"    B   \":2,\"     C D    \":3}\n",
        "\n",
        "\n",
        "# using the strip methode\n",
        "def space_remover(input_dict):\n",
        "  keys = map(lambda x : x.strip(), input_dict.keys())\n",
        "  values = input_dict.values()\n",
        "  return dict(list(zip(keys, values)))\n",
        "\n",
        "# using the replace methode\n",
        "def space_remover_(input_dict):\n",
        "  keys = map(lambda x : x.replace(\" \", \"\"), input_dict.keys())\n",
        "  values = input_dict.values()\n",
        "  return dict(list(zip(keys, values)))\n",
        "\n",
        "# print out results\n",
        "print(\"original dict:\", sample_input)\n",
        "print(\"using strip method (only removes whitespaces on both sides of a string):\", space_remover(sample_input))\n",
        "print(\"using replace method (removes all whitespaces):\", space_remover_(sample_input))\n",
        "\n"
      ],
      "execution_count": 149,
      "outputs": [
        {
          "output_type": "stream",
          "text": [
            "original dict: {'   A E  ': 1, '    B   ': 2, '     C D    ': 3}\n",
            "using strip method (only removes whitespaces on both sides of a string): {'A E': 1, 'B': 2, 'C D': 3}\n",
            "using replace method (removes all whitespaces): {'AE': 1, 'B': 2, 'CD': 3}\n"
          ],
          "name": "stdout"
        }
      ]
    },
    {
      "cell_type": "markdown",
      "metadata": {
        "id": "_x-4c-vDZ5cZ"
      },
      "source": [
        "# Exercice 14\n",
        "\n",
        "Add a list of elements to a given set.\n",
        "\n",
        "- Explain why add function is not a good choice. "
      ]
    },
    {
      "cell_type": "markdown",
      "metadata": {
        "id": "6q2OrHaKmJGp"
      },
      "source": [
        "## add vs update methods\n",
        "The main difference between these two methods is that the **add** method expects single hashable elements as arguments (numbers, strings, booleans...), whereas the **update** method expects an iterable. Therefore, the update method is more useful since we usually want to extend our sets with a list of items."
      ]
    },
    {
      "cell_type": "code",
      "metadata": {
        "colab": {
          "base_uri": "https://localhost:8080/"
        },
        "id": "-p4dfwYEmIiL",
        "outputId": "46855a87-c6bc-4b4c-942d-62581fc7fc7c"
      },
      "source": [
        "my_set = {\"orange\", \"blue\", \"red\", \"green\"}\n",
        "my_list = [\"yellow\", \"black\", \"white\"]\n",
        "\n",
        "try:\n",
        "  my_set.add(my_list)\n",
        "  print(my_set)\n",
        "except:\n",
        "  print(\"add: error => the add method doesn't allow arguments that are iterable\")\n",
        "\n",
        "my_set.update(my_list)\n",
        "print(\"update:\", my_set)"
      ],
      "execution_count": 152,
      "outputs": [
        {
          "output_type": "stream",
          "text": [
            "add: error => the add method doesn't allow arguments that are iterable\n",
            "update: {'black', 'yellow', 'orange', 'white', 'blue', 'green', 'red'}\n"
          ],
          "name": "stdout"
        }
      ]
    },
    {
      "cell_type": "markdown",
      "metadata": {
        "id": "XphZBF4foLPa"
      },
      "source": [
        "On the other hand, the add method is much faster when passing a hashable argument. Thus, it's interesting to use the add method to add one item at a time, and the update method to add a list of items to our set."
      ]
    },
    {
      "cell_type": "code",
      "metadata": {
        "colab": {
          "base_uri": "https://localhost:8080/"
        },
        "id": "-a5VhQ-xoKin",
        "outputId": "fdd100e8-4f5d-438a-b1ce-483c1f858d96"
      },
      "source": [
        "import time\n",
        "\n",
        "init_time_1 = time.time()\n",
        "my_set.add(\"pink\")\n",
        "print(\"the add method took:\", time.time() - init_time_1, \"ms\")\n",
        "\n",
        "init_time_2 = time.time()\n",
        "my_set.update([\"purple\"])\n",
        "print(\"the update method took:\", time.time() - init_time_2, \"ms\")"
      ],
      "execution_count": null,
      "outputs": [
        {
          "output_type": "stream",
          "text": [
            "the add method took: 8.392333984375e-05 ms\n",
            "the update method took: 0.00011110305786132812 ms\n"
          ],
          "name": "stdout"
        }
      ]
    },
    {
      "cell_type": "markdown",
      "metadata": {
        "id": "TLMBu_94bEte"
      },
      "source": [
        "# Exercice 15\n",
        "\n",
        "Write a Python program to calculate the time runs (difference between start and current time) of a program. (consider using the ``` time ``` library ).\n"
      ]
    },
    {
      "cell_type": "code",
      "metadata": {
        "id": "mRSaarl5bRi8",
        "colab": {
          "base_uri": "https://localhost:8080/"
        },
        "outputId": "6fe81a05-2021-4bb3-fe70-4bd6e8622fcb"
      },
      "source": [
        "import time \n",
        "\n",
        "initial_time = time.time()\n",
        "\n",
        "for i in range(10000000):\n",
        "  pass\n",
        "\n",
        "print(\"execution time:\", time.time() - initial_time,\"ms\")"
      ],
      "execution_count": null,
      "outputs": [
        {
          "output_type": "stream",
          "text": [
            "execution time: 0.46188902854919434 ms\n"
          ],
          "name": "stdout"
        }
      ]
    },
    {
      "cell_type": "markdown",
      "metadata": {
        "id": "pxrJIUvjbUFP"
      },
      "source": [
        "# Exercice 16\n",
        "\n",
        "write a program that shuffle and print a given list (hint : use the library ``` random ``` )"
      ]
    },
    {
      "cell_type": "code",
      "metadata": {
        "id": "m-H2YHC0bwtd",
        "colab": {
          "base_uri": "https://localhost:8080/"
        },
        "outputId": "92d20bfc-9fa9-4033-84b5-6a1d1743ab26"
      },
      "source": [
        "import random \n",
        "\n",
        "sample_list = [\"england\", \"france\", \"spain\", \"algeria\"]\n",
        "random.shuffle(sample_list)\n",
        "print(sample_list)"
      ],
      "execution_count": null,
      "outputs": [
        {
          "output_type": "stream",
          "text": [
            "['england', 'spain', 'france', 'algeria']\n"
          ],
          "name": "stdout"
        }
      ]
    },
    {
      "cell_type": "markdown",
      "metadata": {
        "id": "SSuwDUFnTH9Q"
      },
      "source": [
        "# Exercice 17\n",
        "Write the definition of a Point class. Objects from this class should have a\n",
        "\n",
        "- a method show to display the coordinates of the point\n",
        "- a method move to change these coordinates.\n",
        "- a method dist that computes the distance between 2 points.\n",
        "Note the distance between 2 points A(x0, y0) and B(x1, y1) can be compute as follows\n",
        "$d(A,B)=\\sqrt{(x_{1}-x_{0})^{2} + (y_{1}-y_{0})^{2} }$\n",
        "\n",
        "this is the expected result\n",
        "\n",
        "```\n",
        "p1 = Point(2, 3)\n",
        ">>> p2 = Point(3, 3)\n",
        ">>> p1.show()\n",
        "(2, 3)\n",
        ">>> p2.show()\n",
        "(3, 3)\n",
        ">>> p1.move(10, -10)\n",
        ">>> p1.show()\n",
        "(12, -7)\n",
        ">>> p2.show()\n",
        "(3, 3)\n",
        ">>> p1.dist(p2)\n",
        "1.0\n",
        "```\n",
        "\n"
      ]
    },
    {
      "cell_type": "code",
      "metadata": {
        "colab": {
          "base_uri": "https://localhost:8080/"
        },
        "id": "jWoRyTT_rXpc",
        "outputId": "3570bfc6-7f0e-4c3a-beff-3cb72180c03d"
      },
      "source": [
        "import math\n",
        "\n",
        "class Point:\n",
        "  def __init__(self, x, y):\n",
        "    self.x = x\n",
        "    self.y = y\n",
        "\n",
        "  def show(self):\n",
        "    print(\"x:\", self.x, \"; y:\", self.y)\n",
        "  \n",
        "  def move(self, new_x, new_y):\n",
        "    self.x = new_x\n",
        "    self.y = new_y\n",
        "  \n",
        "  def get_coord(self):\n",
        "    return { \"x\" : self.x, \"y\" : self.y }\n",
        "  # we implement the dist method as a static one since it computes the distance between two points that have nothing to do with the class instance\n",
        "  @staticmethod\n",
        "  def dist(pt1, pt2):\n",
        "    return math.sqrt((pt1[\"x\"]-pt2[\"x\"])**2 + (pt1[\"y\"]-pt2[\"y\"])**2)\n",
        "\n",
        "# creating two instances of the Point class\n",
        "A = Point(0,0)\n",
        "B = Point(1,0)\n",
        "\n",
        "# checking the functioning of the show method\n",
        "print(\"A:\")\n",
        "A.show()\n",
        "print(\"B:\")\n",
        "B.show()\n",
        "\n",
        "# moving the point A\n",
        "A.move(6,0)\n",
        "print(\"moving the point A:\")\n",
        "A.show()\n",
        "\n",
        "print(\"distance between pt1 and pt2:\",Point.dist(A.get_coord(), B.get_coord()))"
      ],
      "execution_count": null,
      "outputs": [
        {
          "output_type": "stream",
          "text": [
            "A:\n",
            "x: 0 ; y: 0\n",
            "B:\n",
            "x: 1 ; y: 0\n",
            "moving the point A:\n",
            "x: 6 ; y: 0\n",
            "distance between pt1 and pt2: 5.0\n"
          ],
          "name": "stdout"
        }
      ]
    },
    {
      "cell_type": "markdown",
      "metadata": {
        "id": "yAWjIdnkUtvh"
      },
      "source": [
        "implement a Matrix class that has the following functions : \n",
        "\n",
        "- **size**: return the number of rows, and number of columns\n",
        "- **get_cell**: that take the number of rows, the number of columns as parameters, and returns the content of cell corresponding to row number col number\n",
        "- **set_cell**: that take the number of rows, the number of columns as parameters, and a value and set the value val in cell specified by row number x column number\n",
        "- **to_str**: return a string representation of the matrix\n",
        "- **mult**: that take a scalar and return a new matrix which is the scalar product of matrix x val\n",
        "\n",
        "expected result : \n",
        "\n",
        "\n",
        "\n",
        "\n",
        "```\n",
        "m1 = Matrix(row=2, col=3,val=4)\n",
        ">>> print(m1)\n",
        "4 4 4\n",
        "4 4 4\n",
        "m2 = Matrix(row=2, col=2)\n",
        ">>>print(m2)\n",
        "None None\n",
        "None None\n",
        ">>> m1.mult(2)\n",
        ">>> print(m1)\n",
        "8 8 8\n",
        "8 8 8\n",
        ">>> m1.set_cell(1,1,-1)\n",
        ">>> print(m1)\n",
        "8 8 8\n",
        "8 -1 8\n",
        ">>> m1.size()\n",
        "(2,3)\n",
        "\n",
        "\n",
        "```\n",
        "\n",
        "\n"
      ]
    },
    {
      "cell_type": "code",
      "metadata": {
        "id": "pzh8bA7tTFE4",
        "colab": {
          "base_uri": "https://localhost:8080/"
        },
        "outputId": "e054521f-a1fa-49b3-9498-7a6850e494e6"
      },
      "source": [
        "# defining the matrix class\n",
        "class Matrix:\n",
        "  \n",
        "  def __init__(self, row, col, val = None):\n",
        "    self.row = row\n",
        "    self.col = col\n",
        "    self.val = val\n",
        "    # using comprehension list to copy the rows\n",
        "    self.mtx = [[i for i in item] for item in [[val]*col]*row]\n",
        "\n",
        "  # special method to modify the printing\n",
        "  def __str__(self):\n",
        "    return \"\\n\".join([\"\".join([\"{:^5}\".format(str(i)) for i in row]) for row in self.mtx])\n",
        "\n",
        "  def size(self):\n",
        "    return self.row, self.col\n",
        "\n",
        "  def get_cell(self, row, col):\n",
        "    return self.mtx[row][col]\n",
        "  \n",
        "  def set_cell(self, row, col, val):\n",
        "    self.mtx[row][col] = val\n",
        "  \n",
        "  def mult(self, scalar):\n",
        "    self.mtx = [[item*2 for item in row] for row in self.mtx]\n",
        "  \n",
        "  def to_str(self):\n",
        "    return \"\\n\".join([\"\".join([\"{:^5}\".format(str(i)) for i in row]) for row in self.mtx])\n",
        "\n",
        "\n",
        "# printing out the results\n",
        "m1 = Matrix(row=2, col=3, val=4)\n",
        "\n",
        "# using the modified print function\n",
        "print(\"printing out the matrix m1 using the modified print function:\")\n",
        "print(m1)\n",
        "print(\"\")\n",
        "# using the to_str method\n",
        "print(\"printing out the matrix m1 using the to_str method:\")\n",
        "print(m1.to_str())\n",
        "print(\"\")\n",
        "\n",
        "# defining a second matrix\n",
        "m2 = Matrix(row=2, col=2)\n",
        "print(\"matrix m2:\")\n",
        "print(m2)\n",
        "print(\"\")\n",
        "\n",
        "# using mult method\n",
        "m1.mult(2)\n",
        "print(\"m1 multiplied by 2:\")\n",
        "print(m1)\n",
        "print(\"\")\n",
        "\n",
        "# using set_cell method\n",
        "m1.set_cell(1,1,-1)\n",
        "print(\"updated the m1 matrix:\")\n",
        "print(m1)\n",
        "print(\"\")\n",
        "\n",
        "# using the size method\n",
        "print(\"the size of m1 is:\")\n",
        "print(m1.size())\n",
        "print(\"\")\n",
        "\n",
        "# using the get_cell method\n",
        "\n",
        "print(\"the cell in position (1,1) in the matrix m1 is:\", m1.get_cell(0,0))\n",
        "\n",
        "\n"
      ],
      "execution_count": null,
      "outputs": [
        {
          "output_type": "stream",
          "text": [
            "printing out the matrix m1 using the modified print function:\n",
            "  4    4    4  \n",
            "  4    4    4  \n",
            "\n",
            "printing out the matrix m1 using the to_str method:\n",
            "  4    4    4  \n",
            "  4    4    4  \n",
            "\n",
            "matrix m2:\n",
            "None None \n",
            "None None \n",
            "\n",
            "m1 multiplied by 2:\n",
            "  8    8    8  \n",
            "  8    8    8  \n",
            "\n",
            "updated the m1 matrix:\n",
            "  8    8    8  \n",
            "  8   -1    8  \n",
            "\n",
            "the size of m1 is:\n",
            "(2, 3)\n",
            "\n",
            "the cell in position (1,1) in the matrix m1 is: 8\n"
          ],
          "name": "stdout"
        }
      ]
    },
    {
      "cell_type": "markdown",
      "metadata": {
        "id": "eMprKbCFw4I5"
      },
      "source": [
        "# Exercice 19\n",
        "\n",
        "- Write a Python program to read an entire text file\n",
        "- Write a Python program to read first n lines of a file\n",
        "- Write a Python program to append text to a file and display the text\n",
        "- Write a Python program to read a file line by line and store it into a list\n",
        "- Write a python program to find the longest words.\n",
        "- Write a Python program to count the frequency of words in a file.\n",
        "- Write a Python program that creates a file where all letters of English alphabet are listed by n number of letters on each line. The example below is the expected result for n=3\n",
        "\n",
        "```\n",
        "words1.txt\n",
        "ABC\n",
        "DEF\n",
        "GHI\n",
        "JKL\n",
        "MNO\n",
        "PQR\n",
        "STU\n",
        "VWX\n",
        "YZ\n",
        "```\n"
      ]
    },
    {
      "cell_type": "markdown",
      "metadata": {
        "id": "M77RzzA3XtcK"
      },
      "source": [
        "# Initializing the test file"
      ]
    },
    {
      "cell_type": "code",
      "metadata": {
        "id": "h1r7z9OMX0pL"
      },
      "source": [
        "text = \"\"\"Deep learning was conceptualized by Geoffrey Hinton in the 1980s.\n",
        "He is widely considered to be the founding father of the field of deep learning.\n",
        "Hinton has worked at Google since March 2013 when his company, DNNresearch Inc.\n",
        "Hinton’s main contribution to the field of deep learning was to compare machine learning techniques to the human brain.\n",
        "More specifically, he created the concept of a \\\"neural network\\\", which is a deep learning algorithm structured similar to the organization of neurons in the brain.\n",
        "Hinton took this approach because the human brain is arguably the most powerful computational engine known today.\n",
        "\"\"\""
      ],
      "execution_count": 133,
      "outputs": []
    },
    {
      "cell_type": "markdown",
      "metadata": {
        "id": "HFGgW8Z-5Zm3"
      },
      "source": [
        "##Reading an entire text file"
      ]
    },
    {
      "cell_type": "code",
      "metadata": {
        "id": "srpDqAZufDs5",
        "colab": {
          "base_uri": "https://localhost:8080/"
        },
        "outputId": "d353eb8b-e7ff-4068-97b3-de0f46f33b60"
      },
      "source": [
        "# opening the existing file\n",
        "f = open(\"test.txt\", \"r\")\n",
        "\n",
        "# reading the file\n",
        "print(f.read())\n",
        "f.close()"
      ],
      "execution_count": 134,
      "outputs": [
        {
          "output_type": "stream",
          "text": [
            "Deep learning was conceptualized by Geoffrey Hinton in the 1980s.\n",
            "He is widely considered to be the founding father of the field of deep learning.\n",
            "Hinton has worked at Google since March 2013 when his company, DNNresearch Inc.\n",
            "Hinton’s main contribution to the field of deep learning was to compare machine learning techniques to the human brain.\n",
            "More specifically, he created the concept of a \"neural network\", which is a deep learning algorithm structured similar to the organization of neurons in the brain.\n",
            "Hinton took this approach because the human brain is arguably the most powerful computational engine known today.\n"
          ],
          "name": "stdout"
        }
      ]
    },
    {
      "cell_type": "markdown",
      "metadata": {
        "id": "YT8ohkVX5fNx"
      },
      "source": [
        "#Reading n first lines of a file"
      ]
    },
    {
      "cell_type": "code",
      "metadata": {
        "colab": {
          "base_uri": "https://localhost:8080/"
        },
        "id": "22r7D3lu5t-N",
        "outputId": "a061ad1d-1960-4ccd-a573-cdcbb8f295ab"
      },
      "source": [
        "# defining a function that read a certain number of lines on a text file\n",
        "def read_n_lines(text, n_lines):\n",
        "  f = open(text, \"r\")\n",
        "  for i in range(n_lines):\n",
        "    print(f.readline())\n",
        "  f.close()\n",
        "\n",
        "# printing the results\n",
        "read_n_lines(\"test.txt\", 5)"
      ],
      "execution_count": 135,
      "outputs": [
        {
          "output_type": "stream",
          "text": [
            "Deep learning was conceptualized by Geoffrey Hinton in the 1980s.\n",
            "\n",
            "He is widely considered to be the founding father of the field of deep learning.\n",
            "\n",
            "Hinton has worked at Google since March 2013 when his company, DNNresearch Inc.\n",
            "\n",
            "Hinton’s main contribution to the field of deep learning was to compare machine learning techniques to the human brain.\n",
            "\n",
            "More specifically, he created the concept of a \"neural network\", which is a deep learning algorithm structured similar to the organization of neurons in the brain.\n",
            "\n"
          ],
          "name": "stdout"
        }
      ]
    },
    {
      "cell_type": "markdown",
      "metadata": {
        "id": "GAcQDLDp7URD"
      },
      "source": [
        "##Appending text to a file and reading it"
      ]
    },
    {
      "cell_type": "code",
      "metadata": {
        "colab": {
          "base_uri": "https://localhost:8080/"
        },
        "id": "eaPukH8k7cy7",
        "outputId": "1ea6a123-f51b-4eaf-80b0-4802faa658f3"
      },
      "source": [
        "# creating a new file (if we provide an unexisting file, the open function will create it)\n",
        "f = open(\"test_1.txt\", \"a\")\n",
        "\n",
        "# writing of the new file\n",
        "f.write(\"this is a new file created with the open function !\")\n",
        "f.close()\n",
        "\n",
        "# reading the file's content\n",
        "f = open(\"test_1.txt\", \"r\")\n",
        "print(f.read())\n",
        "f.close()"
      ],
      "execution_count": 137,
      "outputs": [
        {
          "output_type": "stream",
          "text": [
            "this is a new file created with the open function !\n"
          ],
          "name": "stdout"
        }
      ]
    },
    {
      "cell_type": "markdown",
      "metadata": {
        "id": "68HnlAeF9DRo"
      },
      "source": [
        "## Reading a file line by line and storing the lines on a list"
      ]
    },
    {
      "cell_type": "code",
      "metadata": {
        "colab": {
          "base_uri": "https://localhost:8080/"
        },
        "id": "UEjvZqef9BvB",
        "outputId": "3d337e49-86f1-4d08-ce9a-c0abc61d8aad"
      },
      "source": [
        "# function definition\n",
        "def text_to_list(text):\n",
        "  lines_list = []\n",
        "\n",
        "  # opening the file\n",
        "  f = open(text, \"r\")\n",
        "\n",
        "  # going through all the file's lines\n",
        "  for x in f:\n",
        "    lines_list.append(x.replace(\"\\n\", \"\"))\n",
        "  \n",
        "  # closing the file\n",
        "  f.close()\n",
        "  return lines_list\n",
        "\n",
        "# printing out hte results\n",
        "print(text_to_list(\"test.txt\"))"
      ],
      "execution_count": 138,
      "outputs": [
        {
          "output_type": "stream",
          "text": [
            "['Deep learning was conceptualized by Geoffrey Hinton in the 1980s.', 'He is widely considered to be the founding father of the field of deep learning.', 'Hinton has worked at Google since March 2013 when his company, DNNresearch Inc.', 'Hinton’s main contribution to the field of deep learning was to compare machine learning techniques to the human brain.', 'More specifically, he created the concept of a \"neural network\", which is a deep learning algorithm structured similar to the organization of neurons in the brain.', 'Hinton took this approach because the human brain is arguably the most powerful computational engine known today.']\n"
          ],
          "name": "stdout"
        }
      ]
    },
    {
      "cell_type": "markdown",
      "metadata": {
        "id": "oCUZraHe-Fvg"
      },
      "source": [
        "## Finding the longest word of the file"
      ]
    },
    {
      "cell_type": "code",
      "metadata": {
        "colab": {
          "base_uri": "https://localhost:8080/"
        },
        "id": "Pcy-5DD8-LRI",
        "outputId": "7c4bf87a-5d1e-4229-8f09-1f846e8205b5"
      },
      "source": [
        "# importing the re library to manipulate regular expressions\n",
        "import re\n",
        "\n",
        "# function definition\n",
        "def longest_word(text, num_of_words):\n",
        "  output_words = []\n",
        "\n",
        "  # opening the file\n",
        "  f = open(text, \"r\")\n",
        "\n",
        "  # cleaning the words from symbols (,\"...) and spliting the string to a list of words\n",
        "  words_list = re.sub('[\",.]', \"\", f.read()).lower().split()\n",
        "\n",
        "\n",
        "  # closing the file\n",
        "  f.close()\n",
        "\n",
        "  # while the numbers of words not reached => keep looking for the longest words\n",
        "  while len(output_words) < num_of_words:\n",
        "    word = \"\"\n",
        "\n",
        "    # looping the all the words of the file\n",
        "    for w in words_list:\n",
        "      if len(word) < len(w): word = w\n",
        "    \n",
        "    # adding the longest word available after looping through all of them\n",
        "    output_words.append((word, len(word)))\n",
        "\n",
        "    # removing all the instances of the selected word so that it will not appear in the next iterations\n",
        "    words_list = [w for w in words_list if w != word] # or list(filter(lambda x : x != word, words_list))\n",
        "  return output_words\n",
        "\n",
        "\n",
        "# printing out the results as list of tuples (word, number of characters)\n",
        "print(longest_word(\"test.txt\", 5))"
      ],
      "execution_count": 139,
      "outputs": [
        {
          "output_type": "stream",
          "text": [
            "[('conceptualized', 14), ('computational', 13), ('contribution', 12), ('specifically', 12), ('organization', 12)]\n"
          ],
          "name": "stdout"
        }
      ]
    },
    {
      "cell_type": "markdown",
      "metadata": {
        "id": "e-wfDPuWI67F"
      },
      "source": [
        "## Counting all the occurences of all the file's words"
      ]
    },
    {
      "cell_type": "code",
      "metadata": {
        "colab": {
          "base_uri": "https://localhost:8080/"
        },
        "id": "hjHbjG6pI5-R",
        "outputId": "bb6b040c-d0f6-4460-aad2-1c55e5351e39"
      },
      "source": [
        "import re\n",
        "\n",
        "def word_freq(text):\n",
        "  #opening the file\n",
        "  f = open(text, \"r\")\n",
        "\n",
        "  # spliting the words into a list after cleaning the text\n",
        "  words_list = re.sub('[,\".]', \"\", f.read()).lower().split()\n",
        "\n",
        "  # creating set containing unduplicated words\n",
        "  unduplicated_list = set(words_list)\n",
        "\n",
        "  # calculating the frequency of each word\n",
        "  words_count = map(lambda word: words_list.count(word), unduplicated_list)\n",
        "\n",
        "  # zipping the to iterators into a dict of the form {word : frequency}\n",
        "  return dict(zip(unduplicated_list, words_count))\n",
        "\n",
        "print(word_freq(\"test.txt\"))\n"
      ],
      "execution_count": 140,
      "outputs": [
        {
          "output_type": "stream",
          "text": [
            "{'has': 1, 'to': 5, 'structured': 1, 'took': 1, 'geoffrey': 1, 'because': 1, 'google': 1, 'this': 1, 'dnnresearch': 1, 'he': 2, 'techniques': 1, 'neural': 1, 'computational': 1, 'neurons': 1, 'known': 1, 'when': 1, 'network': 1, 'widely': 1, 'organization': 1, '1980s': 1, 'be': 1, 'learning': 5, 'machine': 1, 'hinton’s': 1, 'concept': 1, 'at': 1, 'is': 3, 'compare': 1, 'march': 1, 'similar': 1, 'specifically': 1, 'main': 1, 'company': 1, 'father': 1, 'human': 2, 'which': 1, 'most': 1, 'of': 5, 'worked': 1, 'by': 1, 'a': 2, 'engine': 1, 'his': 1, 'field': 2, 'inc': 1, 'brain': 3, 'created': 1, 'the': 10, 'approach': 1, 'more': 1, 'in': 2, 'conceptualized': 1, 'today': 1, 'algorithm': 1, 'deep': 4, 'hinton': 3, 'arguably': 1, 'since': 1, 'contribution': 1, 'powerful': 1, 'considered': 1, 'founding': 1, '2013': 1, 'was': 2}\n"
          ],
          "name": "stdout"
        }
      ]
    },
    {
      "cell_type": "markdown",
      "metadata": {
        "id": "R2MX_oq-OjjE"
      },
      "source": [
        "## Printing all the alphabet when having n letter on each line\n"
      ]
    },
    {
      "cell_type": "code",
      "metadata": {
        "colab": {
          "base_uri": "https://localhost:8080/"
        },
        "id": "jU7LkfcQOtfy",
        "outputId": "f5ec2651-7fcf-4af0-b135-e1b2a256ab9a"
      },
      "source": [
        "\n",
        "# function definition\n",
        "def write_alph(text, n):\n",
        "  line = \"\"\n",
        "\n",
        "  # opening the file in write mode\n",
        "  f = open(text, \"w\")\n",
        "\n",
        "  # using the ASCII table to print the alphabet\n",
        "  for i in range(ord(\"A\"), ord(\"Z\") + 1):\n",
        "    line += chr(i)\n",
        "\n",
        "    # if the line has reached the amount of letters, then go down\n",
        "    if int(i-ord(\"A\")+1) % n == 0:\n",
        "      f.write(line)\n",
        "      f.write(\"\\n\")\n",
        "      line = \"\"\n",
        "  \n",
        "  # writing the remaining letters\n",
        "  f.write(line)\n",
        "  f.close()\n",
        "\n",
        "  # reading the file\n",
        "  f = open(text, \"r\")\n",
        "  output = f.read()\n",
        "  f.close()\n",
        "  return output\n",
        "    \n",
        "\n",
        "# printing out the results\n",
        "print(write_alph(\"test_2\",3))"
      ],
      "execution_count": 141,
      "outputs": [
        {
          "output_type": "stream",
          "text": [
            "ABC\n",
            "DEF\n",
            "GHI\n",
            "JKL\n",
            "MNO\n",
            "PQR\n",
            "STU\n",
            "VWX\n",
            "YZ\n"
          ],
          "name": "stdout"
        }
      ]
    }
  ]
}