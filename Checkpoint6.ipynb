{
  "nbformat": 4,
  "nbformat_minor": 0,
  "metadata": {
    "colab": {
      "name": "Checkpoint6.ipynb",
      "provenance": [],
      "collapsed_sections": [],
      "authorship_tag": "ABX9TyNsYnW5ybQlxSaWbebPMRBy",
      "include_colab_link": true
    },
    "kernelspec": {
      "name": "python3",
      "display_name": "Python 3"
    },
    "language_info": {
      "name": "python"
    }
  },
  "cells": [
    {
      "cell_type": "markdown",
      "metadata": {
        "id": "view-in-github",
        "colab_type": "text"
      },
      "source": [
        "<a href=\"https://colab.research.google.com/github/sofiane1010/SIC_checkpoints/blob/main/Checkpoint6.ipynb\" target=\"_parent\"><img src=\"https://colab.research.google.com/assets/colab-badge.svg\" alt=\"Open In Colab\"/></a>"
      ]
    },
    {
      "cell_type": "code",
      "metadata": {
        "id": "04kq4Be_1CUK"
      },
      "source": [
        "import csv\n",
        "import random\n",
        "import math\n",
        "import operator"
      ],
      "execution_count": 6,
      "outputs": []
    },
    {
      "cell_type": "markdown",
      "metadata": {
        "id": "Th9iAoho702b"
      },
      "source": [
        "# Loading the dataset"
      ]
    },
    {
      "cell_type": "code",
      "metadata": {
        "id": "7EohoxQr3U2D"
      },
      "source": [
        "def loadDataset(filename, split, trainingSet = [], testSet = []):\n",
        "    with open(filename, 'rt') as csvfile:\n",
        "        lines = csv.reader(csvfile)\n",
        "        dataset = list(lines)\n",
        "        for x in range(len(dataset)-1):\n",
        "            for y in range(4):\n",
        "                dataset[x][y] = float(dataset[x][y])\n",
        "            if random.random() < split:\n",
        "                trainingSet.append(dataset[x])\n",
        "            else:\n",
        "                testSet.append(dataset[x])"
      ],
      "execution_count": 11,
      "outputs": []
    },
    {
      "cell_type": "markdown",
      "metadata": {
        "id": "7ft0-Hy_73KN"
      },
      "source": [
        "# Testing the loadDataset function"
      ]
    },
    {
      "cell_type": "code",
      "metadata": {
        "colab": {
          "base_uri": "https://localhost:8080/"
        },
        "id": "HLir7MkS221R",
        "outputId": "5dc742e4-f22d-40d4-82b4-31c940810601"
      },
      "source": [
        "trainingSet=[]\n",
        "testSet=[]\n",
        "loadDataset('iris.data.txt', 0.66, trainingSet, testSet)\n",
        "print ('Train: ' + repr(len(trainingSet)))\n",
        "print ('Test: ' + repr(len(testSet)) )"
      ],
      "execution_count": 12,
      "outputs": [
        {
          "output_type": "stream",
          "text": [
            "Train: 97\n",
            "Test: 52\n"
          ],
          "name": "stdout"
        }
      ]
    },
    {
      "cell_type": "markdown",
      "metadata": {
        "id": "1TsvW7cc78JG"
      },
      "source": [
        "# Calculating the euclidean distance between instances"
      ]
    },
    {
      "cell_type": "code",
      "metadata": {
        "id": "e_nYMpqt220F"
      },
      "source": [
        "def euclideanDistance(instance1, instance2, length):\n",
        "    distance = 0\n",
        "    for x in range(length):\n",
        "        distance += pow((instance1[x]-instance2[x]), 2)\n",
        "    return math.sqrt(distance)"
      ],
      "execution_count": 13,
      "outputs": []
    },
    {
      "cell_type": "markdown",
      "metadata": {
        "id": "cEfqn8o48EIe"
      },
      "source": [
        "# Testing the euclideanDistance function"
      ]
    },
    {
      "cell_type": "code",
      "metadata": {
        "colab": {
          "base_uri": "https://localhost:8080/"
        },
        "id": "jDkod4pe36rR",
        "outputId": "6cb542e0-749f-4a9f-9f38-f813333f0942"
      },
      "source": [
        "data1 = [2, 2, 2, 'a']\n",
        "data2 = [4, 4, 4, 'b']\n",
        "distance = euclideanDistance(data1, data2, 3)\n",
        "print ('Distance: ' + repr(distance))"
      ],
      "execution_count": 16,
      "outputs": [
        {
          "output_type": "stream",
          "text": [
            "Distance: 3.4641016151377544\n"
          ],
          "name": "stdout"
        }
      ]
    },
    {
      "cell_type": "markdown",
      "metadata": {
        "id": "1PZXieu38Hji"
      },
      "source": [
        "# Collecting the neighbors of a testInstance based on the euclidean distance between that instance and the rows of the training set."
      ]
    },
    {
      "cell_type": "code",
      "metadata": {
        "id": "kBYIDekH4OCO"
      },
      "source": [
        "def getNeighbors(trainingSet, testInstance, k):\n",
        "    distances = []\n",
        "    length = len(testInstance)-1\n",
        "    for x in range(len(trainingSet)):\n",
        "        dist = euclideanDistance(testInstance, trainingSet[x], length)\n",
        "        distances.append((trainingSet[x], dist))\n",
        "    distances.sort(key=operator.itemgetter(1))\n",
        "    neighbors = []\n",
        "    for x in range(k):\n",
        "        neighbors.append(distances[x][0])\n",
        "    return neighbors"
      ],
      "execution_count": 28,
      "outputs": []
    },
    {
      "cell_type": "markdown",
      "metadata": {
        "id": "TpY5vGCF8WpR"
      },
      "source": [
        "# Defining the prediction of our KNN algorithm based on the maximum number of neighbors."
      ]
    },
    {
      "cell_type": "code",
      "metadata": {
        "id": "1XfjUTV15dHf"
      },
      "source": [
        "def getResponse(neighbors):\n",
        "    classVotes = {}\n",
        "    for x in range(len(neighbors)):\n",
        "        response = neighbors[x][-1]\n",
        "        if response in classVotes:\n",
        "            classVotes[response] += 1\n",
        "        else:\n",
        "            classVotes[response] = 1\n",
        "    sortedVotes = sorted(classVotes.items(), key=operator.itemgetter(1), reverse=True)\n",
        "    return sortedVotes[0][0]"
      ],
      "execution_count": 29,
      "outputs": []
    },
    {
      "cell_type": "markdown",
      "metadata": {
        "id": "hGTQzJVJ8hfv"
      },
      "source": [
        "# Testing the getResponse function"
      ]
    },
    {
      "cell_type": "code",
      "metadata": {
        "colab": {
          "base_uri": "https://localhost:8080/"
        },
        "id": "q79N02hq51fx",
        "outputId": "dc26c06a-521d-4df0-9730-5582edfe488e"
      },
      "source": [
        "neighbors = [[1,1,1,'a'], [2,2,2,'a'], [3,3,3,'b']]\n",
        "response = getResponse(neighbors)\n",
        "print(response)"
      ],
      "execution_count": 30,
      "outputs": [
        {
          "output_type": "stream",
          "text": [
            "a\n"
          ],
          "name": "stdout"
        }
      ]
    },
    {
      "cell_type": "markdown",
      "metadata": {
        "id": "McbygYm98lpI"
      },
      "source": [
        "# Defining the accuracy of our model"
      ]
    },
    {
      "cell_type": "code",
      "metadata": {
        "id": "-Y3BtYFB6LeX"
      },
      "source": [
        "def getAccuracy(testSet, predictions):\n",
        "    correct = 0\n",
        "    for x in range(len(testSet)):\n",
        "        if testSet[x][-1] == predictions[x]:\n",
        "            correct += 1\n",
        "    return (correct/float(len(testSet)))*100.0"
      ],
      "execution_count": 31,
      "outputs": []
    },
    {
      "cell_type": "markdown",
      "metadata": {
        "id": "R6eJOP1X8osq"
      },
      "source": [
        "# testing the getAccuracy function"
      ]
    },
    {
      "cell_type": "code",
      "metadata": {
        "colab": {
          "base_uri": "https://localhost:8080/"
        },
        "id": "acvkV95s6PPi",
        "outputId": "759ff1c2-1cc1-477e-dc83-88bf9482d188"
      },
      "source": [
        "testSet = [[1,1,1,'a'], [2,2,2,'a'], [3,3,3,'b']]\n",
        "predictions = ['a', 'a', 'a']\n",
        "accuracy = getAccuracy(testSet, predictions)\n",
        "print(accuracy)"
      ],
      "execution_count": 32,
      "outputs": [
        {
          "output_type": "stream",
          "text": [
            "66.66666666666666\n"
          ],
          "name": "stdout"
        }
      ]
    },
    {
      "cell_type": "markdown",
      "metadata": {
        "id": "yj2xxhP38sBF"
      },
      "source": [
        "# Defining a main_func function that implements all the algorithm on our dataset and returns the accuracy of the model."
      ]
    },
    {
      "cell_type": "code",
      "metadata": {
        "id": "b7D9D_g76Z5r"
      },
      "source": [
        "def main_func():\n",
        "    trainingSet = []\n",
        "    testSet = []\n",
        "    split = 0.67\n",
        "    loadDataset('iris.data.txt', split, trainingSet, testSet)\n",
        "    print('Train set: ' + repr(len(trainingSet)))\n",
        "    print('Test set: ' + repr(len(testSet)))\n",
        "    print(\" \")\n",
        "    predictions = []\n",
        "    k = 3\n",
        "\n",
        "    for x in range(len(testSet)):\n",
        "        neighbors = getNeighbors(trainingSet, testSet[x], k)\n",
        "        result = getResponse(neighbors)\n",
        "        predictions.append(result)\n",
        "    accuracy = getAccuracy(testSet, predictions)\n",
        "    print('Accuracy: ' + repr(accuracy) + '%')"
      ],
      "execution_count": 40,
      "outputs": []
    },
    {
      "cell_type": "markdown",
      "metadata": {
        "id": "HMNSMSRg826c"
      },
      "source": [
        "# Testing the main_func function"
      ]
    },
    {
      "cell_type": "markdown",
      "metadata": {
        "id": "6YWfJb4E825j"
      },
      "source": [
        ""
      ]
    },
    {
      "cell_type": "code",
      "metadata": {
        "colab": {
          "base_uri": "https://localhost:8080/"
        },
        "id": "tQ89eBTQ6uBK",
        "outputId": "a26e583f-3646-4122-dd5a-8a2c77cf695e"
      },
      "source": [
        "main_func()"
      ],
      "execution_count": 46,
      "outputs": [
        {
          "output_type": "stream",
          "text": [
            "Train set: 100\n",
            "Test set: 49\n",
            " \n",
            "Accuracy: 97.95918367346938%\n"
          ],
          "name": "stdout"
        }
      ]
    },
    {
      "cell_type": "markdown",
      "metadata": {
        "id": "IGRZFY_F879q"
      },
      "source": [
        "# Another distance metrics is the manhattan distance"
      ]
    },
    {
      "cell_type": "code",
      "metadata": {
        "id": "9TN7F7007aYA"
      },
      "source": [
        "def manhattanDistance(instance1, instance2, length):\n",
        "    distance = 0\n",
        "    for x in range(length):\n",
        "        distance += abs(instance1[x]-instance2[x])\n",
        "    return distance"
      ],
      "execution_count": 44,
      "outputs": []
    },
    {
      "cell_type": "markdown",
      "metadata": {
        "id": "redPkxI_9CA_"
      },
      "source": [
        "# Testing our manhattanDistance function."
      ]
    },
    {
      "cell_type": "code",
      "metadata": {
        "colab": {
          "base_uri": "https://localhost:8080/"
        },
        "id": "uMWSV0Fm7qE2",
        "outputId": "2de12b2a-746a-4992-888e-cbf85006d6d8"
      },
      "source": [
        "data1 = [2, 2, 2, 'a']\n",
        "data2 = [4, 4, 4, 'b']\n",
        "distance = manhattanDistance(data1, data2, 3)\n",
        "print ('Distance: ' + repr(distance))"
      ],
      "execution_count": 45,
      "outputs": [
        {
          "output_type": "stream",
          "text": [
            "Distance: 6\n"
          ],
          "name": "stdout"
        }
      ]
    }
  ]
}